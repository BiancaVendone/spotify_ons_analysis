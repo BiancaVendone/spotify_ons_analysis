{
 "cells": [
  {
   "cell_type": "markdown",
   "id": "d6c99097-1a02-4ef2-a582-e429c0af6f4c",
   "metadata": {},
   "source": [
    "# Spotify Listening Trends' Dataset\n",
    "To build the final dataset we will need to: \n",
    "1. Get the charts dataset\n",
    "2. Get all unique songs, and run that dataset through build_genre_dataset.py to get all genre_tags.\n",
    "3. Merge genre_tags to the charts dataset on [['artist','song_name']]\n",
    "\n",
    "Finally we need to inspect and clean the dataset."
   ]
  },
  {
   "cell_type": "markdown",
   "id": "47b8ed04-72af-4796-af09-dec88d4e1dd2",
   "metadata": {},
   "source": [
    "## 1. Get charts dataset"
   ]
  },
  {
   "cell_type": "code",
   "execution_count": 11,
   "id": "91a41bf1-8427-47fb-a112-e252a2fa0612",
   "metadata": {},
   "outputs": [],
   "source": [
    "import json\n",
    "import pandas as pd"
   ]
  },
  {
   "cell_type": "code",
   "execution_count": 12,
   "id": "7f3e87a7-f667-4c30-8bb9-59d95b441e15",
   "metadata": {},
   "outputs": [
    {
     "name": "stdout",
     "output_type": "stream",
     "text": [
      "<class 'pandas.core.frame.DataFrame'>\n",
      "RangeIndex: 9909 entries, 0 to 9908\n",
      "Data columns (total 4 columns):\n",
      " #   Column          Non-Null Count  Dtype  \n",
      "---  ------          --------------  -----  \n",
      " 0   artist          9909 non-null   object \n",
      " 1   song_name       9909 non-null   object \n",
      " 2   quarterly_date  9909 non-null   object \n",
      " 3   n_streams       9839 non-null   float64\n",
      "dtypes: float64(1), object(3)\n",
      "memory usage: 309.8+ KB\n",
      "None\n"
     ]
    },
    {
     "data": {
      "text/html": [
       "<div>\n",
       "<style scoped>\n",
       "    .dataframe tbody tr th:only-of-type {\n",
       "        vertical-align: middle;\n",
       "    }\n",
       "\n",
       "    .dataframe tbody tr th {\n",
       "        vertical-align: top;\n",
       "    }\n",
       "\n",
       "    .dataframe thead th {\n",
       "        text-align: right;\n",
       "    }\n",
       "</style>\n",
       "<table border=\"1\" class=\"dataframe\">\n",
       "  <thead>\n",
       "    <tr style=\"text-align: right;\">\n",
       "      <th></th>\n",
       "      <th>artist</th>\n",
       "      <th>song_name</th>\n",
       "      <th>quarterly_date</th>\n",
       "      <th>n_streams</th>\n",
       "    </tr>\n",
       "  </thead>\n",
       "  <tbody>\n",
       "    <tr>\n",
       "      <th>0</th>\n",
       "      <td>50 Cent</td>\n",
       "      <td>In Da Club</td>\n",
       "      <td>2009 Q4</td>\n",
       "      <td>NaN</td>\n",
       "    </tr>\n",
       "    <tr>\n",
       "      <th>1</th>\n",
       "      <td>Eminem</td>\n",
       "      <td>Without Me</td>\n",
       "      <td>2009 Q2</td>\n",
       "      <td>NaN</td>\n",
       "    </tr>\n",
       "    <tr>\n",
       "      <th>2</th>\n",
       "      <td>Mary J. Blige</td>\n",
       "      <td>Family Affair</td>\n",
       "      <td>2009 Q1</td>\n",
       "      <td>NaN</td>\n",
       "    </tr>\n",
       "  </tbody>\n",
       "</table>\n",
       "</div>"
      ],
      "text/plain": [
       "          artist      song_name quarterly_date  n_streams\n",
       "0        50 Cent     In Da Club        2009 Q4        NaN\n",
       "1         Eminem     Without Me        2009 Q2        NaN\n",
       "2  Mary J. Blige  Family Affair        2009 Q1        NaN"
      ]
     },
     "execution_count": 12,
     "metadata": {},
     "output_type": "execute_result"
    }
   ],
   "source": [
    "charts = pd.read_csv('final_merged_dataset.csv')\n",
    "print(charts.info())\n",
    "charts.head(3)"
   ]
  },
  {
   "cell_type": "markdown",
   "id": "d7cd029c-8222-4fb9-bc7e-07a590991307",
   "metadata": {},
   "source": [
    "## 2. Unique songs dataset\n",
    "Run unique_tracks.csv through build_genre_dataset.py, to create final_genre_tags.csv that contains the artist, song_name and genre tag for all unqiue songs in the charts dataset."
   ]
  },
  {
   "cell_type": "code",
   "execution_count": 13,
   "id": "0fbdf492-6e56-433e-9d48-c7659c5419ab",
   "metadata": {},
   "outputs": [],
   "source": [
    "unique_tracks = charts[['artist', 'song_name']].drop_duplicates().reset_index(drop=True)\n",
    "# unique_tracks.to_csv('unique_tracks.csv', index=False)"
   ]
  },
  {
   "cell_type": "markdown",
   "id": "86839d9b-93ef-4d51-a33f-16ad49367d92",
   "metadata": {},
   "source": [
    "## 3. Merge genre_tags and charts datasets"
   ]
  },
  {
   "cell_type": "code",
   "execution_count": 14,
   "id": "ce67f16d-6540-431b-b73f-8775893ea94d",
   "metadata": {},
   "outputs": [],
   "source": [
    "with open('final_genre_tags.json', 'r') as file:\n",
    "    final_genre_tags = json.load(file)"
   ]
  },
  {
   "cell_type": "code",
   "execution_count": 15,
   "id": "fc0e6bfa-75d1-4d07-9327-d8a696bee4fe",
   "metadata": {},
   "outputs": [
    {
     "data": {
      "text/html": [
       "<div>\n",
       "<style scoped>\n",
       "    .dataframe tbody tr th:only-of-type {\n",
       "        vertical-align: middle;\n",
       "    }\n",
       "\n",
       "    .dataframe tbody tr th {\n",
       "        vertical-align: top;\n",
       "    }\n",
       "\n",
       "    .dataframe thead th {\n",
       "        text-align: right;\n",
       "    }\n",
       "</style>\n",
       "<table border=\"1\" class=\"dataframe\">\n",
       "  <thead>\n",
       "    <tr style=\"text-align: right;\">\n",
       "      <th></th>\n",
       "      <th>artist</th>\n",
       "      <th>song_name</th>\n",
       "      <th>quarterly_date</th>\n",
       "      <th>n_streams</th>\n",
       "      <th>genre</th>\n",
       "    </tr>\n",
       "  </thead>\n",
       "  <tbody>\n",
       "    <tr>\n",
       "      <th>0</th>\n",
       "      <td>50 Cent</td>\n",
       "      <td>In Da Club</td>\n",
       "      <td>2009 Q4</td>\n",
       "      <td>NaN</td>\n",
       "      <td>Hip-Hop</td>\n",
       "    </tr>\n",
       "    <tr>\n",
       "      <th>1</th>\n",
       "      <td>Eminem</td>\n",
       "      <td>Without Me</td>\n",
       "      <td>2009 Q2</td>\n",
       "      <td>NaN</td>\n",
       "      <td>Hip-Hop</td>\n",
       "    </tr>\n",
       "    <tr>\n",
       "      <th>2</th>\n",
       "      <td>Mary J. Blige</td>\n",
       "      <td>Family Affair</td>\n",
       "      <td>2009 Q1</td>\n",
       "      <td>NaN</td>\n",
       "      <td>R&amp;B</td>\n",
       "    </tr>\n",
       "    <tr>\n",
       "      <th>3</th>\n",
       "      <td>Akon</td>\n",
       "      <td>Smack That</td>\n",
       "      <td>2009 Q1</td>\n",
       "      <td>NaN</td>\n",
       "      <td>R&amp;B</td>\n",
       "    </tr>\n",
       "    <tr>\n",
       "      <th>4</th>\n",
       "      <td>USHER</td>\n",
       "      <td>Yeah! (feat. Lil Jon &amp; Ludacris)</td>\n",
       "      <td>2009 Q2</td>\n",
       "      <td>NaN</td>\n",
       "      <td>r&amp;b</td>\n",
       "    </tr>\n",
       "    <tr>\n",
       "      <th>...</th>\n",
       "      <td>...</td>\n",
       "      <td>...</td>\n",
       "      <td>...</td>\n",
       "      <td>...</td>\n",
       "      <td>...</td>\n",
       "    </tr>\n",
       "    <tr>\n",
       "      <th>9904</th>\n",
       "      <td>a-ha</td>\n",
       "      <td>Take on Me</td>\n",
       "      <td>2022 Q1</td>\n",
       "      <td>336351.0</td>\n",
       "      <td>Synthpop</td>\n",
       "    </tr>\n",
       "    <tr>\n",
       "      <th>9905</th>\n",
       "      <td>Britney Spears</td>\n",
       "      <td>Toxic</td>\n",
       "      <td>2022 Q1</td>\n",
       "      <td>335925.0</td>\n",
       "      <td>Pop</td>\n",
       "    </tr>\n",
       "    <tr>\n",
       "      <th>9906</th>\n",
       "      <td>Internet Money, Gunna, Don Toliver, NAV</td>\n",
       "      <td>Lemonade (feat. Gunna, Don Toliver &amp; NAV)</td>\n",
       "      <td>2022 Q1</td>\n",
       "      <td>334594.0</td>\n",
       "      <td>None</td>\n",
       "    </tr>\n",
       "    <tr>\n",
       "      <th>9907</th>\n",
       "      <td>Avicii</td>\n",
       "      <td>The Nights</td>\n",
       "      <td>2022 Q1</td>\n",
       "      <td>333649.0</td>\n",
       "      <td>House</td>\n",
       "    </tr>\n",
       "    <tr>\n",
       "      <th>9908</th>\n",
       "      <td>Queen</td>\n",
       "      <td>Bohemian Rhapsody - Remastered 2011</td>\n",
       "      <td>2022 Q1</td>\n",
       "      <td>332972.0</td>\n",
       "      <td>classic rock</td>\n",
       "    </tr>\n",
       "  </tbody>\n",
       "</table>\n",
       "<p>9909 rows × 5 columns</p>\n",
       "</div>"
      ],
      "text/plain": [
       "                                       artist  \\\n",
       "0                                     50 Cent   \n",
       "1                                      Eminem   \n",
       "2                               Mary J. Blige   \n",
       "3                                        Akon   \n",
       "4                                       USHER   \n",
       "...                                       ...   \n",
       "9904                                     a-ha   \n",
       "9905                           Britney Spears   \n",
       "9906  Internet Money, Gunna, Don Toliver, NAV   \n",
       "9907                                   Avicii   \n",
       "9908                                    Queen   \n",
       "\n",
       "                                      song_name quarterly_date  n_streams  \\\n",
       "0                                    In Da Club        2009 Q4        NaN   \n",
       "1                                    Without Me        2009 Q2        NaN   \n",
       "2                                 Family Affair        2009 Q1        NaN   \n",
       "3                                    Smack That        2009 Q1        NaN   \n",
       "4              Yeah! (feat. Lil Jon & Ludacris)        2009 Q2        NaN   \n",
       "...                                         ...            ...        ...   \n",
       "9904                                 Take on Me        2022 Q1   336351.0   \n",
       "9905                                      Toxic        2022 Q1   335925.0   \n",
       "9906  Lemonade (feat. Gunna, Don Toliver & NAV)        2022 Q1   334594.0   \n",
       "9907                                 The Nights        2022 Q1   333649.0   \n",
       "9908        Bohemian Rhapsody - Remastered 2011        2022 Q1   332972.0   \n",
       "\n",
       "             genre  \n",
       "0          Hip-Hop  \n",
       "1          Hip-Hop  \n",
       "2              R&B  \n",
       "3              R&B  \n",
       "4              r&b  \n",
       "...            ...  \n",
       "9904      Synthpop  \n",
       "9905           Pop  \n",
       "9906          None  \n",
       "9907         House  \n",
       "9908  classic rock  \n",
       "\n",
       "[9909 rows x 5 columns]"
      ]
     },
     "execution_count": 15,
     "metadata": {},
     "output_type": "execute_result"
    }
   ],
   "source": [
    "final_genre_tags_df = pd.DataFrame(final_genre_tags)\n",
    "\n",
    "# Merge Spotify genres\n",
    "final_charts = pd.merge(charts,final_genre_tags_df,left_on=['song_name', 'artist'],right_on=['song_name', 'artist'],how='inner')\n",
    "final_charts"
   ]
  },
  {
   "cell_type": "code",
   "execution_count": 16,
   "id": "8bc9ac76-1384-4bd2-a2f6-4e528d3cf513",
   "metadata": {},
   "outputs": [],
   "source": [
    "# final_charts.to_csv('spotify_dataset.csv', index=False)"
   ]
  },
  {
   "cell_type": "markdown",
   "id": "8c7b4fa4-95cb-4fd8-bee8-b3add9cc9843",
   "metadata": {},
   "source": [
    "## Data cleansing "
   ]
  },
  {
   "cell_type": "code",
   "execution_count": 17,
   "id": "471a622e-ce76-41d3-aa4b-38eb8775eae5",
   "metadata": {},
   "outputs": [],
   "source": [
    "final_charts['genre'] = final_charts['genre'].str.lower()"
   ]
  },
  {
   "cell_type": "code",
   "execution_count": 18,
   "id": "570716f0-d465-4ed9-944e-23ec9470e05c",
   "metadata": {},
   "outputs": [
    {
     "data": {
      "text/plain": [
       "genre\n",
       "6ix9ine                                  1\n",
       "doo-wop                                  1\n",
       "n-a                                      1\n",
       "christian                                1\n",
       "salsa                                    1\n",
       "21 savage                                1\n",
       "don't let the internet ruin your time    1\n",
       "camila                                   1\n",
       "favourite                                1\n",
       "laïko                                    1\n",
       "female                                   1\n",
       "chance the rapper                        1\n",
       "electro corridos                         1\n",
       "adult standards                          1\n",
       "christmas songs                          1\n",
       "mashup                                   1\n",
       "kendrick lamar                           1\n",
       "big sean                                 1\n",
       "bachata                                  1\n",
       "experimental hip hop                     1\n",
       "alternative hip hop                      1\n",
       "male                                     1\n",
       "christian country                        1\n",
       "glam metal                               1\n",
       "the best song ever                       1\n",
       "pusha t                                  1\n",
       "trip-hop                                 1\n",
       "sexy                                     1\n",
       "great way to start an album              1\n",
       "garbage                                  1\n",
       "drag race                                1\n",
       "wrong artist                             1\n",
       "breakbeat                                1\n",
       "we love taunt                            1\n",
       "hiphop                                   1\n",
       "mariachi                                 1\n",
       "dnb                                      1\n",
       "please let me lick you                   1\n",
       "brazilian bass                           1\n",
       "chanson                                  1\n",
       "eurovision song contest                  1\n",
       "gay anthem                               1\n",
       "bossa nova                               1\n",
       "manele                                   1\n",
       "hardcore hip hop                         1\n",
       "teezo touchdown                          1\n",
       "euro dance                               1\n",
       "mcdonalds                                1\n",
       "j cole                                   1\n",
       "french                                   1\n",
       "Name: count, dtype: int64"
      ]
     },
     "execution_count": 18,
     "metadata": {},
     "output_type": "execute_result"
    }
   ],
   "source": [
    "final_charts['genre'].value_counts().tail(50)"
   ]
  },
  {
   "cell_type": "code",
   "execution_count": null,
   "id": "5f1e1d8c-f038-40a7-9c7b-c00b2f063d60",
   "metadata": {},
   "outputs": [],
   "source": [
    "# Some observations \n",
    "\n",
    "## Merge genre tags:\n",
    "# - uk drill, drill, brooklyn drill\n",
    "# - rnb, r&b\n",
    "# - hip-hop, hip hop, alternative hip-hop\n",
    "# - classic rock, rock, pop-rock, hard rock, rock & roll\n",
    "# - pop, britpop, art pop"
   ]
  }
 ],
 "metadata": {
  "kernelspec": {
   "display_name": "Python 3 (ipykernel)",
   "language": "python",
   "name": "python3"
  },
  "language_info": {
   "codemirror_mode": {
    "name": "ipython",
    "version": 3
   },
   "file_extension": ".py",
   "mimetype": "text/x-python",
   "name": "python",
   "nbconvert_exporter": "python",
   "pygments_lexer": "ipython3",
   "version": "3.13.1"
  }
 },
 "nbformat": 4,
 "nbformat_minor": 5
}
